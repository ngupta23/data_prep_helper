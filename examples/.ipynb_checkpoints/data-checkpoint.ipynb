{
 "cells": [
  {
   "cell_type": "code",
   "execution_count": 1,
   "metadata": {},
   "outputs": [],
   "source": [
    "#import pandas as pd"
   ]
  },
  {
   "cell_type": "code",
   "execution_count": 2,
   "metadata": {},
   "outputs": [],
   "source": [
    "# d = {'col1': [1, 2], 'col2': [3, 4]}\n",
    "# df = pd.DataFrame(data=d)\n",
    "# df.info()"
   ]
  },
  {
   "cell_type": "code",
   "execution_count": 3,
   "metadata": {},
   "outputs": [],
   "source": [
    "# df.rename(columns={\"col1\": \"a\", \"col2\": \"b\"})"
   ]
  },
  {
   "cell_type": "code",
   "execution_count": 4,
   "metadata": {},
   "outputs": [],
   "source": [
    "import sys\n",
    "sys.path.append(\"C:/Users/Nikhil/Google Drive Work/MyPythonLibraries/data-prep/data-prep\")"
   ]
  },
  {
   "cell_type": "code",
   "execution_count": 5,
   "metadata": {},
   "outputs": [],
   "source": [
    "from data import Data"
   ]
  },
  {
   "cell_type": "code",
   "execution_count": 6,
   "metadata": {},
   "outputs": [],
   "source": [
    "vibha = Data(\"vibha\",\"csv\",\"../Vibha/VP_Fundraising_Report.csv\")"
   ]
  },
  {
   "cell_type": "code",
   "execution_count": 7,
   "metadata": {},
   "outputs": [
    {
     "name": "stdout",
     "output_type": "stream",
     "text": [
      "<class 'pandas.core.frame.DataFrame'>\n",
      "RangeIndex: 4001 entries, 0 to 4000\n",
      "Data columns (total 20 columns):\n",
      "fundraiser_id             3870 non-null object\n",
      "fundraiser_title          3870 non-null object\n",
      "campaign_title            2402 non-null object\n",
      "fundraiser_first_name     3373 non-null object\n",
      "fundraiser_last_name      3373 non-null object\n",
      "fundraiser_email          3373 non-null object\n",
      "donation_id               4001 non-null object\n",
      "donor_first_name          4001 non-null object\n",
      "donor_last_name           4001 non-null object\n",
      "donation_date             4001 non-null object\n",
      "transaction_type          4001 non-null object\n",
      "transaction_success       4001 non-null bool\n",
      "amount_currency           4001 non-null object\n",
      "donation_amount_in_usd    4001 non-null float64\n",
      "comment                   737 non-null object\n",
      "source_name               4001 non-null object\n",
      "city                      3268 non-null object\n",
      "state                     3254 non-null object\n",
      "zip                       3266 non-null object\n",
      "country                   3082 non-null object\n",
      "dtypes: bool(1), float64(1), object(18)\n",
      "memory usage: 597.9+ KB\n"
     ]
    }
   ],
   "source": [
    "vibha.get_data().info()"
   ]
  },
  {
   "cell_type": "code",
   "execution_count": 8,
   "metadata": {},
   "outputs": [],
   "source": [
    "col_mapping = {\"campaign_title\": \"Campaign Title\"\n",
    "               ,\"fundraiser_title\": \"Fundraiser Title\"\n",
    "               ,'fundraiser_email':'Fundraiser Email'\n",
    "               ,'donation_date':'Donation Date'\n",
    "               ,'amount_currency':'Donation Currency'\n",
    "               ,'donation_amount_in_usd':'Donation Amount'\n",
    "               ,'transaction_type':'Transaction Type'\n",
    "               ,'source_name':'Source Name'\n",
    "               ,'city':'City'\n",
    "               ,'state':'State'\n",
    "               ,'zip':'Zip Code'\n",
    "               ,'country':'Country'\n",
    "               ,'comment':'Comment'\n",
    "              }"
   ]
  },
  {
   "cell_type": "code",
   "execution_count": 10,
   "metadata": {},
   "outputs": [],
   "source": [
    "vibha.map_columns(col_mapping)"
   ]
  },
  {
   "cell_type": "code",
   "execution_count": 12,
   "metadata": {},
   "outputs": [
    {
     "name": "stdout",
     "output_type": "stream",
     "text": [
      "<class 'pandas.core.frame.DataFrame'>\n",
      "RangeIndex: 4001 entries, 0 to 4000\n",
      "Data columns (total 20 columns):\n",
      "fundraiser_id            3870 non-null object\n",
      "Fundraiser Title         3870 non-null object\n",
      "Campaign Title           2402 non-null object\n",
      "fundraiser_first_name    3373 non-null object\n",
      "fundraiser_last_name     3373 non-null object\n",
      "Fundraiser Email         3373 non-null object\n",
      "donation_id              4001 non-null object\n",
      "donor_first_name         4001 non-null object\n",
      "donor_last_name          4001 non-null object\n",
      "Donation Date            4001 non-null object\n",
      "Transaction Type         4001 non-null object\n",
      "transaction_success      4001 non-null bool\n",
      "Donation Currency        4001 non-null object\n",
      "Donation Amount          4001 non-null float64\n",
      "Comment                  737 non-null object\n",
      "Source Name              4001 non-null object\n",
      "City                     3268 non-null object\n",
      "State                    3254 non-null object\n",
      "Zip Code                 3266 non-null object\n",
      "Country                  3082 non-null object\n",
      "dtypes: bool(1), float64(1), object(18)\n",
      "memory usage: 597.9+ KB\n"
     ]
    }
   ],
   "source": [
    "vibha.get_data().info()"
   ]
  },
  {
   "cell_type": "code",
   "execution_count": 15,
   "metadata": {},
   "outputs": [
    {
     "name": "stdout",
     "output_type": "stream",
     "text": [
      "<class 'pandas.core.frame.DataFrame'>\n",
      "RangeIndex: 4001 entries, 0 to 4000\n",
      "Data columns (total 19 columns):\n",
      "Fundraiser Title         3870 non-null object\n",
      "Campaign Title           2402 non-null object\n",
      "fundraiser_first_name    3373 non-null object\n",
      "fundraiser_last_name     3373 non-null object\n",
      "Fundraiser Email         3373 non-null object\n",
      "donation_id              4001 non-null object\n",
      "donor_first_name         4001 non-null object\n",
      "donor_last_name          4001 non-null object\n",
      "Donation Date            4001 non-null object\n",
      "Transaction Type         4001 non-null object\n",
      "transaction_success      4001 non-null bool\n",
      "Donation Currency        4001 non-null object\n",
      "Donation Amount          4001 non-null float64\n",
      "Comment                  737 non-null object\n",
      "Source Name              4001 non-null object\n",
      "City                     3268 non-null object\n",
      "State                    3254 non-null object\n",
      "Zip Code                 3266 non-null object\n",
      "Country                  3082 non-null object\n",
      "dtypes: bool(1), float64(1), object(17)\n",
      "memory usage: 566.7+ KB\n"
     ]
    },
    {
     "name": "stderr",
     "output_type": "stream",
     "text": [
      "C:\\ProgramData\\Anaconda3\\lib\\site-packages\\more\\pandas_helper\\__init__.py:104: UserWarning: Column(s) ['fundraiser_id'] were not present in the dataframe\n",
      "  warnings.warn(\"Column(s) {} were not present in the dataframe\".format(cols_not_present))\n"
     ]
    }
   ],
   "source": [
    "vibha.drop_columns('fundraiser_id')\n",
    "vibha.get_data().info()"
   ]
  },
  {
   "cell_type": "code",
   "execution_count": null,
   "metadata": {},
   "outputs": [],
   "source": []
  }
 ],
 "metadata": {
  "kernelspec": {
   "display_name": "Python 3",
   "language": "python",
   "name": "python3"
  },
  "language_info": {
   "codemirror_mode": {
    "name": "ipython",
    "version": 3
   },
   "file_extension": ".py",
   "mimetype": "text/x-python",
   "name": "python",
   "nbconvert_exporter": "python",
   "pygments_lexer": "ipython3",
   "version": "3.6.8"
  }
 },
 "nbformat": 4,
 "nbformat_minor": 2
}
